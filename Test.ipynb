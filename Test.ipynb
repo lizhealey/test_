{
 "cells": [
  {
   "cell_type": "code",
   "execution_count": 335,
   "id": "fff75f25",
   "metadata": {},
   "outputs": [],
   "source": [
    "import torch\n",
    "import torch.nn as nn\n",
    "import torch.optim as optim\n",
    "import numpy as np\n",
    "import matplotlib.pyplot as plt\n",
    "\n",
    "import torch\n",
    "from torch.utils.data import Dataset, DataLoader\n",
    "import torch\n",
    "from torch.utils.data import Sampler\n",
    "from collections import defaultdict\n",
    "from collections import defaultdict\n",
    "from torch.utils.data import Sampler\n",
    "from torch.utils.data import TensorDataset, DataLoader\n",
    "import torch\n",
    "from torch.utils.data import Dataset\n",
    "# Set random seed for reproducibility\n",
    "torch.manual_seed(42)\n",
    "np.random.seed(42)\n",
    "\n",
    "'''def generate_synthetic_data(batch_size, seq_len):\n",
    "    x = np.linspace(0, 10, seq_len)\n",
    "    phase_shifts = np.random.uniform(0, 2 * np.pi, size=batch_size)  # Random phase shift for each signal\n",
    "    signals = np.array([np.sin(x + phase) + 0.1 * np.random.randn(seq_len) for phase in phase_shifts])\n",
    "    return signals'''\n",
    "def generate_synthetic_data(batch_size, seq_len):\n",
    "    x = np.linspace(0, 10, 100)\n",
    "    phase_shifts = np.random.uniform(0, 2 * np.pi, size=batch_size)  # Random phase shift for each signal\n",
    "    label = []\n",
    "    signals=[]\n",
    "    for i in range(int(batch_size/2)):\n",
    "        # Generate each signal as either sine or cosine based on a random choice\n",
    "        signals.append(np.array([\n",
    "            (np.sin(x + phase) ) + 0.1 * np.random.randn(1)\n",
    "            for phase in phase_shifts\n",
    "        ]))\n",
    "        label.append(0)\n",
    "    for i in range(int(batch_size/2)):\n",
    "        # Generate each signal as either sine or cosine based on a random choice\n",
    "        signals.append(np.array([\n",
    "            ( np.cos(x + phase)) + 0.1 * np.random.randn(1)\n",
    "            for phase in phase_shifts\n",
    "        ]))\n",
    "        label.append(1)\n",
    "    return signals, label\n",
    "\n",
    "\n",
    "# Mask part of the signal\n",
    "def mask_signal_data(signal_data, mask_prob=0.15):\n",
    "    mask = (torch.rand(signal_data.shape) < mask_prob)\n",
    "    masked_signal_data = signal_data.clone()\n",
    "    masked_signal_data[mask] = '[MASK]'  # Masking with zeros\n",
    "    return masked_signal_data, mask\n",
    "\n",
    "# Transformer model definition\n",
    "class MaskedSignalModel(nn.Module):\n",
    "    def __init__(self, input_dim, model_dim, num_layers):\n",
    "        super(MaskedSignalModel, self).__init__()\n",
    "        self.embedding = nn.Linear(input_dim, model_dim)\n",
    "\n",
    "        self.encoder_layer = nn.TransformerEncoderLayer(d_model=model_dim, nhead=8)\n",
    "        self.transformer_encoder = nn.TransformerEncoder(self.encoder_layer, num_layers=num_layers)\n",
    "        self.fc = nn.Linear(model_dim, input_dim)  # Final layer to predict the masked values\n",
    "    \n",
    "    def forward(self, src, src_mask):\n",
    "        embedded_src = self.embedding(src)\n",
    "        output = self.transformer_encoder(embedded_src)\n",
    "        out = self.fc(output)\n",
    "        return out, output\n",
    "\n"
   ]
  },
  {
   "cell_type": "code",
   "execution_count": 319,
   "id": "94686355",
   "metadata": {},
   "outputs": [
    {
     "data": {
      "text/plain": [
       "torch.Size([400, 100, 1])"
      ]
     },
     "execution_count": 319,
     "metadata": {},
     "output_type": "execute_result"
    }
   ],
   "source": [
    "signal_data.shape"
   ]
  },
  {
   "cell_type": "code",
   "execution_count": 375,
   "id": "87a5f4e4",
   "metadata": {},
   "outputs": [],
   "source": [
    "import numpy as np\n",
    "import pandas as pd\n",
    "\n",
    "# Parameters\n",
    "n_samples = 30  # Total number of samples\n",
    "signal_length = 100  # Length of each time series\n",
    "noise_level = 0.1  # Noise level\n",
    "\n",
    "# Generate sine and cosine waves with noise\n",
    "sine_signals = np.array([\n",
    "    np.sin(np.linspace(0, 4 * np.pi, signal_length)) + noise_level * np.random.randn(signal_length)\n",
    "    for _ in range(n_samples // 2)\n",
    "])\n",
    "cosine_signals = np.array([\n",
    "    np.cos(np.linspace(0, 4 * np.pi, signal_length)) + noise_level * np.random.randn(signal_length)\n",
    "    for _ in range(n_samples // 2)\n",
    "])\n",
    "\n",
    "# Concatenate sine and cosine signals and create output labels\n",
    "signals = np.vstack([sine_signals, cosine_signals])\n",
    "labels = np.array([0] * (n_samples // 2) + [1] * (n_samples // 2))  # 0 for sine, 1 for cosine\n",
    "\n",
    "\n",
    "signals =(X_train[:400,:]) -40#-np.mean(X_train))/np.std(X_train)\n",
    "labels = y_train[:400]\n",
    "# Create a DataFrame for better readability\n",
    "data = pd.DataFrame(signals)\n",
    "data['label'] = labels"
   ]
  },
  {
   "cell_type": "code",
   "execution_count": 376,
   "id": "72386eb0",
   "metadata": {},
   "outputs": [],
   "source": [
    "\n",
    "# Hyperparameters\n",
    "batch_size, seq_len, input_dim = 32, 100, 1\n",
    "model_dim = 16\n",
    "num_layers = 2\n",
    "epochs = 500\n",
    "\n",
    "# Generate synthetic data\n",
    "signal_data_np = data.iloc[:,:100].values#generate_synthetic_data(batch_size, seq_len)\n",
    "\n",
    "signal_data = torch.tensor(signal_data_np, dtype=torch.float32).unsqueeze(-1)  # Add input_dim axis\n",
    "\n"
   ]
  },
  {
   "cell_type": "code",
   "execution_count": 377,
   "id": "87f5fd6f",
   "metadata": {},
   "outputs": [
    {
     "data": {
      "text/plain": [
       "[<matplotlib.lines.Line2D at 0x1782f43a0>]"
      ]
     },
     "execution_count": 377,
     "metadata": {},
     "output_type": "execute_result"
    },
    {
     "data": {
      "image/png": "[encoded data removed]",
      "text/plain": [
       "<Figure size 640x480 with 1 Axes>"
      ]
     },
     "metadata": {},
     "output_type": "display_data"
    }
   ],
   "source": [
    "plt.plot(data.values[0,:])"
   ]
  },
  {
   "cell_type": "code",
   "execution_count": 378,
   "id": "d87382be",
   "metadata": {},
   "outputs": [],
   "source": [
    "def mask_chunks(signal, chunk_size, num_chunks):\n",
    "    \"\"\"\n",
    "    Masks consecutive chunks of the input signal and returns both the masked signal\n",
    "    and the mask indicating the positions that were masked.\n",
    "    \n",
    "    Parameters:\n",
    "    - signal (torch.Tensor): Input signal of shape (batch_size, seq_len, 1).\n",
    "    - chunk_size (int): Size of the consecutive chunks to mask.\n",
    "    - num_chunks (int): Number of chunks to mask in each sequence.\n",
    "    \n",
    "    Returns:\n",
    "    - masked_signal (torch.Tensor): Signal with chunks masked.\n",
    "    - mask (torch.Tensor): Binary mask indicating masked positions (1 for masked, 0 for unmasked).\n",
    "    \"\"\"\n",
    "    masked_signal = signal.clone()\n",
    "    seq_len = signal.shape[1]\n",
    "    mask = torch.zeros_like(signal)  # Initialize mask with all zeros (no masking)\n",
    "\n",
    "    for i in range(signal.shape[0]):  # Loop through each sample in the batch\n",
    "        for _ in range(num_chunks):\n",
    "            # Randomly select a start index for the chunk\n",
    "            start_idx = random.randint(0, seq_len - chunk_size)\n",
    "            # Mask the chunk (set values to 0 or another token)\n",
    "            masked_signal[i, start_idx:start_idx + chunk_size] = -1\n",
    "            # Update the mask (set 1s for the masked chunk)\n",
    "            mask[i, start_idx:start_idx + chunk_size] = True\n",
    "    \n",
    "    return masked_signal, mask\n",
    "\n"
   ]
  },
  {
   "cell_type": "code",
   "execution_count": 379,
   "id": "75df4604",
   "metadata": {},
   "outputs": [],
   "source": [
    "masked_signal_data, mask = mask_chunks(signal_data,15,1)\n",
    "\n"
   ]
  },
  {
   "cell_type": "code",
   "execution_count": null,
   "id": "e69fa027",
   "metadata": {},
   "outputs": [],
   "source": []
  },
  {
   "cell_type": "code",
   "execution_count": 380,
   "id": "ebdb567e",
   "metadata": {},
   "outputs": [],
   "source": [
    "#masked_signal_data, mask = mask_signal_data(signal_data)"
   ]
  },
  {
   "cell_type": "code",
   "execution_count": 126,
   "id": "fd42c187",
   "metadata": {},
   "outputs": [],
   "source": [
    "import random"
   ]
  },
  {
   "cell_type": "code",
   "execution_count": 166,
   "id": "389f92db",
   "metadata": {},
   "outputs": [
    {
     "data": {
      "text/plain": [
       "100"
      ]
     },
     "execution_count": 166,
     "metadata": {},
     "output_type": "execute_result"
    }
   ],
   "source": [
    "batch_size"
   ]
  },
  {
   "cell_type": "code",
   "execution_count": 382,
   "id": "4d83fdda",
   "metadata": {},
   "outputs": [],
   "source": [
    "# Hyperparameters\n",
    "batch_size, seq_len, input_dim = 32, 100, 1\n",
    "model_dim = 16\n",
    "num_layers = 2\n",
    "epochs = 500"
   ]
  },
  {
   "cell_type": "code",
   "execution_count": 383,
   "id": "a2c5c3fc",
   "metadata": {},
   "outputs": [],
   "source": [
    "import math\n",
    "import torch\n",
    "import torch.nn as nn\n",
    "\n",
    "class PositionalEncoding(nn.Module):\n",
    "    def __init__(self, d_model, max_len=5000):\n",
    "        super(PositionalEncoding, self).__init__()\n",
    "        self.d_model = d_model\n",
    "        # Create a long enough positional encoding matrix\n",
    "        pe = torch.zeros(max_len, d_model)\n",
    "        position = torch.arange(0, max_len, dtype=torch.float).unsqueeze(1)\n",
    "        div_term = torch.exp(torch.arange(0, d_model, 2).float() * (-math.log(10000.0) / d_model))\n",
    "        \n",
    "        pe[:, 0::2] = torch.sin(position * div_term)\n",
    "        pe[:, 1::2] = torch.cos(position * div_term)\n",
    "        \n",
    "        # Add a batch dimension\n",
    "        pe = pe.unsqueeze(0) # shape: [1, max_len, d_model]\n",
    "        self.register_buffer('pe', pe)\n",
    "\n",
    "    def forward(self, x):\n",
    "        # x is expected to have shape: [batch_size, seq_len, d_model]\n",
    "        seq_len = x.size(1)\n",
    "        # Add the positional encoding to the input embeddings\n",
    "        x = x + self.pe[:, :seq_len, :]\n",
    "        return x\n",
    "\n",
    "class MaskedSignalModel(nn.Module):\n",
    "    def __init__(self, input_dim, model_dim, num_layers, max_len=5000):\n",
    "        super(MaskedSignalModel, self).__init__()\n",
    "        self.model_dim = model_dim\n",
    "        self.embedding = nn.Linear(input_dim, model_dim)\n",
    "        self.pos_encoder = PositionalEncoding(model_dim, max_len)\n",
    "\n",
    "        self.encoder_layer = nn.TransformerEncoderLayer(d_model=model_dim, nhead=8)\n",
    "        self.transformer_encoder = nn.TransformerEncoder(self.encoder_layer, num_layers=num_layers)\n",
    "        self.fc = nn.Linear(model_dim, input_dim)  # Final layer to predict masked values\n",
    "\n",
    "    def forward(self, src, src_mask=None):\n",
    "        # src: [batch_size, seq_len, input_dim]\n",
    "        # First, embed the input features\n",
    "        embedded_src = self.embedding(src)  # [batch_size, seq_len, model_dim]\n",
    "        \n",
    "        # Apply positional encoding\n",
    "        embedded_src = self.pos_encoder(embedded_src) # [batch_size, seq_len, model_dim]\n",
    "\n",
    "        # The transformer expects: [seq_len, batch_size, model_dim]\n",
    "        embedded_src = embedded_src.transpose(0, 1)   # [seq_len, batch_size, model_dim]\n",
    "\n",
    "        src_key_padding_mask = src_mask.squeeze(-1) \n",
    "        # Forward pass through Transformer encoder\n",
    "        # If using key_padding_mask: shape is [batch_size, seq_len], so transpose accordingly\n",
    "        output = self.transformer_encoder(embedded_src, src_key_padding_mask=src_key_padding_mask)\n",
    "\n",
    "        \n",
    "        # Back to [batch_size, seq_len, model_dim]\n",
    "        output = output.transpose(0, 1)\n",
    "        \n",
    "        # Predict the masked values\n",
    "        out = self.fc(output) # [batch_size, seq_len, input_dim]\n",
    "\n",
    "        return out, output\n"
   ]
  },
  {
   "cell_type": "code",
   "execution_count": 384,
   "id": "dd7e69f5",
   "metadata": {},
   "outputs": [],
   "source": [
    "masked_signal_data, mask = mask_chunks(signal_data,15,1)\n",
    "\n"
   ]
  },
  {
   "cell_type": "code",
   "execution_count": 385,
   "id": "a8adb90f",
   "metadata": {},
   "outputs": [
    {
     "data": {
      "text/plain": [
       "tensor([[55.],\n",
       "        [55.],\n",
       "        [55.],\n",
       "        [55.],\n",
       "        [55.],\n",
       "        [54.],\n",
       "        [53.],\n",
       "        [53.],\n",
       "        [52.],\n",
       "        [51.],\n",
       "        [51.],\n",
       "        [51.],\n",
       "        [51.],\n",
       "        [52.],\n",
       "        [53.],\n",
       "        [55.],\n",
       "        [57.],\n",
       "        [59.],\n",
       "        [62.],\n",
       "        [65.],\n",
       "        [69.],\n",
       "        [73.],\n",
       "        [76.],\n",
       "        [78.],\n",
       "        [80.],\n",
       "        [81.],\n",
       "        [81.],\n",
       "        [81.],\n",
       "        [81.],\n",
       "        [80.],\n",
       "        [80.],\n",
       "        [79.],\n",
       "        [79.],\n",
       "        [79.],\n",
       "        [79.],\n",
       "        [79.],\n",
       "        [78.],\n",
       "        [78.],\n",
       "        [77.],\n",
       "        [77.],\n",
       "        [76.],\n",
       "        [76.],\n",
       "        [75.],\n",
       "        [74.],\n",
       "        [73.],\n",
       "        [72.],\n",
       "        [70.],\n",
       "        [69.],\n",
       "        [68.],\n",
       "        [66.],\n",
       "        [65.],\n",
       "        [63.],\n",
       "        [62.],\n",
       "        [61.],\n",
       "        [60.],\n",
       "        [60.],\n",
       "        [59.],\n",
       "        [59.],\n",
       "        [58.],\n",
       "        [57.],\n",
       "        [56.],\n",
       "        [56.],\n",
       "        [55.],\n",
       "        [54.],\n",
       "        [53.],\n",
       "        [52.],\n",
       "        [51.],\n",
       "        [-1.],\n",
       "        [-1.],\n",
       "        [-1.],\n",
       "        [-1.],\n",
       "        [-1.],\n",
       "        [-1.],\n",
       "        [-1.],\n",
       "        [-1.],\n",
       "        [-1.],\n",
       "        [-1.],\n",
       "        [-1.],\n",
       "        [-1.],\n",
       "        [-1.],\n",
       "        [-1.],\n",
       "        [-1.],\n",
       "        [42.],\n",
       "        [42.],\n",
       "        [43.],\n",
       "        [43.],\n",
       "        [44.],\n",
       "        [45.],\n",
       "        [46.],\n",
       "        [47.],\n",
       "        [48.],\n",
       "        [49.],\n",
       "        [50.],\n",
       "        [50.],\n",
       "        [50.],\n",
       "        [50.],\n",
       "        [50.],\n",
       "        [50.],\n",
       "        [49.],\n",
       "        [49.]])"
      ]
     },
     "execution_count": 385,
     "metadata": {},
     "output_type": "execute_result"
    }
   ],
   "source": [
    "masked_signal_data[0]"
   ]
  },
  {
   "cell_type": "code",
   "execution_count": 427,
   "id": "7233286e",
   "metadata": {},
   "outputs": [
    {
     "name": "stdout",
     "output_type": "stream",
     "text": [
      "Epoch 0/50, Loss: 180.00595092773438\n",
      "Epoch 2/50, Loss: 320.7493591308594\n",
      "Epoch 4/50, Loss: 352.0788879394531\n",
      "Epoch 6/50, Loss: 377.8220520019531\n",
      "Epoch 8/50, Loss: 335.6602478027344\n",
      "Epoch 10/50, Loss: 469.46868896484375\n",
      "Epoch 12/50, Loss: 399.704345703125\n",
      "Epoch 14/50, Loss: 250.76748657226562\n",
      "Epoch 16/50, Loss: 347.0931091308594\n",
      "Epoch 18/50, Loss: 292.3110046386719\n",
      "Epoch 20/50, Loss: 197.6037139892578\n",
      "Epoch 22/50, Loss: 373.1650085449219\n",
      "Epoch 24/50, Loss: 450.7012023925781\n",
      "Epoch 26/50, Loss: 312.7904052734375\n",
      "Epoch 28/50, Loss: 328.43377685546875\n",
      "Epoch 30/50, Loss: 313.4592590332031\n",
      "Epoch 32/50, Loss: 367.2237243652344\n",
      "Epoch 34/50, Loss: 353.9764709472656\n",
      "Epoch 36/50, Loss: 306.05682373046875\n",
      "Epoch 38/50, Loss: 365.9536437988281\n",
      "Epoch 40/50, Loss: 344.6813049316406\n",
      "Epoch 42/50, Loss: 329.21185302734375\n",
      "Epoch 44/50, Loss: 256.10791015625\n",
      "Epoch 46/50, Loss: 245.1107635498047\n",
      "Epoch 48/50, Loss: 344.7940673828125\n"
     ]
    }
   ],
   "source": [
    "# Mask part of the signal (15% masking)\n",
    "#masked_signal_data, mask = mask_signal_data(signal_data)\n",
    "masked_signal_data, mask = mask_chunks(signal_data,2,10)\n",
    "\n",
    "# Target is the original signal\n",
    "target = signal_data.clone()\n",
    "\n",
    "batch_size=32\n",
    "# Create a TensorDataset and DataLoader for batching\n",
    "dataset = TensorDataset(masked_signal_data, mask, target)\n",
    "dataloader = DataLoader(dataset, batch_size=batch_size, shuffle=True)\n",
    "\n",
    "\n",
    "\n",
    "# Define the model, loss, and optimizer\n",
    "model = MaskedSignalModel(input_dim=input_dim, model_dim=model_dim, num_layers=num_layers)\n",
    "for name, param in model.named_parameters():\n",
    "    if param.dim() > 1:\n",
    "        nn.init.xavier_uniform_(param)\n",
    "\n",
    "criterion = nn.MSELoss()\n",
    "optimizer = optim.Adam(model.parameters(), lr=1)\n",
    "\n",
    "epochs = 50\n",
    "for epoch in range(epochs):\n",
    "    model.train()\n",
    "    epoch_loss = 0.0\n",
    "    \n",
    "    for batch in dataloader:\n",
    "        batch_masked_signal, batch_mask, batch_target = batch\n",
    "        \n",
    "        # Forward pass\n",
    "        output, emb = model(batch_masked_signal, batch_mask)\n",
    "        \n",
    "        # Compute loss (only for masked positions)\n",
    "        loss = criterion(output[batch_mask.bool()], batch_target[batch_mask.bool()])\n",
    "\n",
    "\n",
    "        epoch_loss += loss.item()\n",
    "        \n",
    "        # Backward pass and optimization\n",
    "        optimizer.zero_grad()\n",
    "        loss.backward()\n",
    "        optimizer.step()\n",
    "    \n",
    "    if epoch % 2 == 0:\n",
    "        print(f\"Epoch {epoch}/{epochs}, Loss: {loss.item()}\")\n",
    "\n",
    "# Plot the results for one example from the batch\n",
    "example_idx = 0\n",
    "\n"
   ]
  },
  {
   "cell_type": "code",
   "execution_count": 433,
   "id": "4f64e260",
   "metadata": {},
   "outputs": [
    {
     "name": "stdout",
     "output_type": "stream",
     "text": [
      "Epoch 0/50, Loss: 271.0478820800781\n",
      "Epoch 2/50, Loss: 178.5395050048828\n",
      "Epoch 4/50, Loss: 196.26651000976562\n",
      "Epoch 6/50, Loss: 184.3073272705078\n",
      "Epoch 8/50, Loss: 288.4219055175781\n",
      "Epoch 10/50, Loss: 267.0755920410156\n",
      "Epoch 12/50, Loss: 324.5672607421875\n",
      "Epoch 14/50, Loss: 354.2917175292969\n",
      "Epoch 16/50, Loss: 348.52886962890625\n",
      "Epoch 18/50, Loss: 167.76019287109375\n",
      "Epoch 20/50, Loss: 355.68768310546875\n",
      "Epoch 22/50, Loss: 262.42645263671875\n",
      "Epoch 24/50, Loss: 357.8157653808594\n",
      "Epoch 26/50, Loss: 249.7747039794922\n",
      "Epoch 28/50, Loss: 165.94061279296875\n",
      "Epoch 30/50, Loss: 184.36651611328125\n",
      "Epoch 32/50, Loss: 237.04408264160156\n",
      "Epoch 34/50, Loss: 270.79852294921875\n",
      "Epoch 36/50, Loss: 205.4856719970703\n",
      "Epoch 38/50, Loss: 117.56078338623047\n",
      "Epoch 40/50, Loss: 309.9773254394531\n",
      "Epoch 42/50, Loss: 234.10003662109375\n",
      "Epoch 44/50, Loss: 321.3211669921875\n",
      "Epoch 46/50, Loss: 252.32044982910156\n",
      "Epoch 48/50, Loss: 184.50006103515625\n"
     ]
    }
   ],
   "source": [
    "optimizer = optim.Adam(model.parameters(), lr=0.001)\n",
    "batch_size=400\n",
    "epochs = 50\n",
    "for epoch in range(epochs):\n",
    "    model.train()\n",
    "    epoch_loss = 0.0\n",
    "    \n",
    "    for batch in dataloader:\n",
    "        batch_masked_signal, batch_mask, batch_target = batch\n",
    "        \n",
    "        # Forward pass\n",
    "        output, emb = model(batch_masked_signal, batch_mask)\n",
    "        \n",
    "        # Compute loss (only for masked positions)\n",
    "        loss = criterion(output[batch_mask.bool()], batch_target[batch_mask.bool()])\n",
    "        epoch_loss += loss.item()\n",
    "        \n",
    "        # Backward pass and optimization\n",
    "        optimizer.zero_grad()\n",
    "        loss.backward()\n",
    "        optimizer.step()\n",
    "    \n",
    "    if epoch % 2 == 0:\n",
    "        print(f\"Epoch {epoch}/{epochs}, Loss: {loss.item()}\")\n",
    "\n",
    "# Plot the results for one example from the batch\n",
    "example_idx = 0\n",
    "\n"
   ]
  },
  {
   "cell_type": "code",
   "execution_count": 432,
   "id": "ace5e56f",
   "metadata": {},
   "outputs": [
    {
     "data": {
      "text/plain": [
       "32"
      ]
     },
     "execution_count": 432,
     "metadata": {},
     "output_type": "execute_result"
    }
   ],
   "source": [
    "batch_size"
   ]
  },
  {
   "cell_type": "code",
   "execution_count": null,
   "id": "1616d038",
   "metadata": {},
   "outputs": [],
   "source": []
  },
  {
   "cell_type": "code",
   "execution_count": null,
   "id": "487bdc40",
   "metadata": {},
   "outputs": [],
   "source": []
  },
  {
   "cell_type": "code",
   "execution_count": 336,
   "id": "14248ba0",
   "metadata": {},
   "outputs": [],
   "source": [
    "masked_signal_data, mask = mask_chunks(signal_data,30,1)\n",
    "\n"
   ]
  },
  {
   "cell_type": "code",
   "execution_count": null,
   "id": "b9bd02f9",
   "metadata": {},
   "outputs": [],
   "source": []
  },
  {
   "cell_type": "code",
   "execution_count": null,
   "id": "4e6f1d4b",
   "metadata": {},
   "outputs": [],
   "source": []
  },
  {
   "cell_type": "code",
   "execution_count": 429,
   "id": "f08ddc53",
   "metadata": {},
   "outputs": [
    {
     "name": "stdout",
     "output_type": "stream",
     "text": [
      "Epoch 0/50, Loss: 3562.549560546875\n",
      "Epoch 5/50, Loss: 3296.51708984375\n",
      "Epoch 10/50, Loss: 3177.006591796875\n",
      "Epoch 15/50, Loss: 3035.688720703125\n",
      "Epoch 20/50, Loss: 2879.40869140625\n",
      "Epoch 25/50, Loss: 2698.1669921875\n",
      "Epoch 30/50, Loss: 2503.907470703125\n",
      "Epoch 35/50, Loss: 2285.94091796875\n",
      "Epoch 40/50, Loss: 2058.53125\n",
      "Epoch 45/50, Loss: 1813.9566650390625\n"
     ]
    }
   ],
   "source": [
    "# Mask part of the signal (15% masking)\n",
    "#masked_signal_data, mask = mask_signal_data(signal_data)\n",
    "masked_signal_data, mask = mask_chunks(signal_data,5,3)\n",
    "\n",
    "\n",
    "# Target is the original signal\n",
    "target = signal_data.clone()\n",
    "\n",
    "# Define the model, loss, and optimizer\n",
    "model = MaskedSignalModel(input_dim=input_dim, model_dim=model_dim, num_layers=num_layers)\n",
    "criterion = nn.MSELoss()\n",
    "optimizer = optim.Adam(model.parameters(), lr=0.01)\n",
    "\n",
    "# Training loop\n",
    "for epoch in range(50):\n",
    "    model.train()\n",
    "    \n",
    "    # Forward pass\n",
    "    output, emb = model(masked_signal_data, mask)\n",
    "    \n",
    "    # Compute loss (only for masked positions)\n",
    "    loss = criterion(output[mask.int()], target[mask.int()])\n",
    "    \n",
    "    # Backward pass and optimization\n",
    "    optimizer.zero_grad()\n",
    "    loss.backward()\n",
    "    optimizer.step()\n",
    "    \n",
    "    if epoch % 5 == 0:\n",
    "        print(f\"Epoch {epoch}/{epochs}, Loss: {loss.item()}\")\n",
    "\n",
    "# Plot the results for one example from the batch\n",
    "example_idx = 0"
   ]
  },
  {
   "cell_type": "code",
   "execution_count": null,
   "id": "4e4b4f25",
   "metadata": {},
   "outputs": [],
   "source": []
  },
  {
   "cell_type": "code",
   "execution_count": null,
   "id": "d52cbe28",
   "metadata": {},
   "outputs": [],
   "source": []
  },
  {
   "cell_type": "code",
   "execution_count": 414,
   "id": "0323c77d",
   "metadata": {},
   "outputs": [
    {
     "name": "stdout",
     "output_type": "stream",
     "text": [
      "Epoch 0/50, Loss: 223.26187133789062\n",
      "Epoch 5/50, Loss: 221.6829833984375\n",
      "Epoch 10/50, Loss: 220.1232147216797\n",
      "Epoch 15/50, Loss: 220.1674346923828\n"
     ]
    },
    {
     "ename": "KeyboardInterrupt",
     "evalue": "",
     "output_type": "error",
     "traceback": [
      "\u001b[0;31m---------------------------------------------------------------------------\u001b[0m",
      "\u001b[0;31mKeyboardInterrupt\u001b[0m                         Traceback (most recent call last)",
      "Cell \u001b[0;32mIn[414], line 15\u001b[0m\n\u001b[1;32m     13\u001b[0m \u001b[38;5;66;03m# Backward pass and optimization\u001b[39;00m\n\u001b[1;32m     14\u001b[0m optimizer\u001b[38;5;241m.\u001b[39mzero_grad()\n\u001b[0;32m---> 15\u001b[0m \u001b[43mloss\u001b[49m\u001b[38;5;241;43m.\u001b[39;49m\u001b[43mbackward\u001b[49m\u001b[43m(\u001b[49m\u001b[43m)\u001b[49m\n\u001b[1;32m     16\u001b[0m optimizer\u001b[38;5;241m.\u001b[39mstep()\n\u001b[1;32m     18\u001b[0m \u001b[38;5;28;01mif\u001b[39;00m epoch \u001b[38;5;241m%\u001b[39m \u001b[38;5;241m5\u001b[39m \u001b[38;5;241m==\u001b[39m \u001b[38;5;241m0\u001b[39m:\n",
      "File \u001b[0;32m~/miniforge3/envs/ODE_env/lib/python3.9/site-packages/torch/_tensor.py:521\u001b[0m, in \u001b[0;36mTensor.backward\u001b[0;34m(self, gradient, retain_graph, create_graph, inputs)\u001b[0m\n\u001b[1;32m    511\u001b[0m \u001b[38;5;28;01mif\u001b[39;00m has_torch_function_unary(\u001b[38;5;28mself\u001b[39m):\n\u001b[1;32m    512\u001b[0m     \u001b[38;5;28;01mreturn\u001b[39;00m handle_torch_function(\n\u001b[1;32m    513\u001b[0m         Tensor\u001b[38;5;241m.\u001b[39mbackward,\n\u001b[1;32m    514\u001b[0m         (\u001b[38;5;28mself\u001b[39m,),\n\u001b[0;32m   (...)\u001b[0m\n\u001b[1;32m    519\u001b[0m         inputs\u001b[38;5;241m=\u001b[39minputs,\n\u001b[1;32m    520\u001b[0m     )\n\u001b[0;32m--> 521\u001b[0m \u001b[43mtorch\u001b[49m\u001b[38;5;241;43m.\u001b[39;49m\u001b[43mautograd\u001b[49m\u001b[38;5;241;43m.\u001b[39;49m\u001b[43mbackward\u001b[49m\u001b[43m(\u001b[49m\n\u001b[1;32m    522\u001b[0m \u001b[43m    \u001b[49m\u001b[38;5;28;43mself\u001b[39;49m\u001b[43m,\u001b[49m\u001b[43m \u001b[49m\u001b[43mgradient\u001b[49m\u001b[43m,\u001b[49m\u001b[43m \u001b[49m\u001b[43mretain_graph\u001b[49m\u001b[43m,\u001b[49m\u001b[43m \u001b[49m\u001b[43mcreate_graph\u001b[49m\u001b[43m,\u001b[49m\u001b[43m \u001b[49m\u001b[43minputs\u001b[49m\u001b[38;5;241;43m=\u001b[39;49m\u001b[43minputs\u001b[49m\n\u001b[1;32m    523\u001b[0m \u001b[43m\u001b[49m\u001b[43m)\u001b[49m\n",
      "File \u001b[0;32m~/miniforge3/envs/ODE_env/lib/python3.9/site-packages/torch/autograd/__init__.py:289\u001b[0m, in \u001b[0;36mbackward\u001b[0;34m(tensors, grad_tensors, retain_graph, create_graph, grad_variables, inputs)\u001b[0m\n\u001b[1;32m    284\u001b[0m     retain_graph \u001b[38;5;241m=\u001b[39m create_graph\n\u001b[1;32m    286\u001b[0m \u001b[38;5;66;03m# The reason we repeat the same comment below is that\u001b[39;00m\n\u001b[1;32m    287\u001b[0m \u001b[38;5;66;03m# some Python versions print out the first line of a multi-line function\u001b[39;00m\n\u001b[1;32m    288\u001b[0m \u001b[38;5;66;03m# calls in the traceback and some print out the last line\u001b[39;00m\n\u001b[0;32m--> 289\u001b[0m \u001b[43m_engine_run_backward\u001b[49m\u001b[43m(\u001b[49m\n\u001b[1;32m    290\u001b[0m \u001b[43m    \u001b[49m\u001b[43mtensors\u001b[49m\u001b[43m,\u001b[49m\n\u001b[1;32m    291\u001b[0m \u001b[43m    \u001b[49m\u001b[43mgrad_tensors_\u001b[49m\u001b[43m,\u001b[49m\n\u001b[1;32m    292\u001b[0m \u001b[43m    \u001b[49m\u001b[43mretain_graph\u001b[49m\u001b[43m,\u001b[49m\n\u001b[1;32m    293\u001b[0m \u001b[43m    \u001b[49m\u001b[43mcreate_graph\u001b[49m\u001b[43m,\u001b[49m\n\u001b[1;32m    294\u001b[0m \u001b[43m    \u001b[49m\u001b[43minputs\u001b[49m\u001b[43m,\u001b[49m\n\u001b[1;32m    295\u001b[0m \u001b[43m    \u001b[49m\u001b[43mallow_unreachable\u001b[49m\u001b[38;5;241;43m=\u001b[39;49m\u001b[38;5;28;43;01mTrue\u001b[39;49;00m\u001b[43m,\u001b[49m\n\u001b[1;32m    296\u001b[0m \u001b[43m    \u001b[49m\u001b[43maccumulate_grad\u001b[49m\u001b[38;5;241;43m=\u001b[39;49m\u001b[38;5;28;43;01mTrue\u001b[39;49;00m\u001b[43m,\u001b[49m\n\u001b[1;32m    297\u001b[0m \u001b[43m\u001b[49m\u001b[43m)\u001b[49m\n",
      "File \u001b[0;32m~/miniforge3/envs/ODE_env/lib/python3.9/site-packages/torch/autograd/graph.py:769\u001b[0m, in \u001b[0;36m_engine_run_backward\u001b[0;34m(t_outputs, *args, **kwargs)\u001b[0m\n\u001b[1;32m    767\u001b[0m     unregister_hooks \u001b[38;5;241m=\u001b[39m _register_logging_hooks_on_whole_graph(t_outputs)\n\u001b[1;32m    768\u001b[0m \u001b[38;5;28;01mtry\u001b[39;00m:\n\u001b[0;32m--> 769\u001b[0m     \u001b[38;5;28;01mreturn\u001b[39;00m \u001b[43mVariable\u001b[49m\u001b[38;5;241;43m.\u001b[39;49m\u001b[43m_execution_engine\u001b[49m\u001b[38;5;241;43m.\u001b[39;49m\u001b[43mrun_backward\u001b[49m\u001b[43m(\u001b[49m\u001b[43m  \u001b[49m\u001b[38;5;66;43;03m# Calls into the C++ engine to run the backward pass\u001b[39;49;00m\n\u001b[1;32m    770\u001b[0m \u001b[43m        \u001b[49m\u001b[43mt_outputs\u001b[49m\u001b[43m,\u001b[49m\u001b[43m \u001b[49m\u001b[38;5;241;43m*\u001b[39;49m\u001b[43margs\u001b[49m\u001b[43m,\u001b[49m\u001b[43m \u001b[49m\u001b[38;5;241;43m*\u001b[39;49m\u001b[38;5;241;43m*\u001b[39;49m\u001b[43mkwargs\u001b[49m\n\u001b[1;32m    771\u001b[0m \u001b[43m    \u001b[49m\u001b[43m)\u001b[49m  \u001b[38;5;66;03m# Calls into the C++ engine to run the backward pass\u001b[39;00m\n\u001b[1;32m    772\u001b[0m \u001b[38;5;28;01mfinally\u001b[39;00m:\n\u001b[1;32m    773\u001b[0m     \u001b[38;5;28;01mif\u001b[39;00m attach_logging_hooks:\n",
      "\u001b[0;31mKeyboardInterrupt\u001b[0m: "
     ]
    }
   ],
   "source": [
    "optimizer = optim.Adam(model.parameters(), lr=.0001)\n",
    "\n",
    "# Training loop\n",
    "for epoch in range(100):\n",
    "    model.train()\n",
    "    \n",
    "    # Forward pass\n",
    "    output, emb = model(masked_signal_data, mask)\n",
    "    \n",
    "    # Compute loss (only for masked positions)\n",
    "    loss = criterion(output[mask.int()], target[mask.int()])\n",
    "    \n",
    "    # Backward pass and optimization\n",
    "    optimizer.zero_grad()\n",
    "    loss.backward()\n",
    "    optimizer.step()\n",
    "    \n",
    "    if epoch % 5 == 0:\n",
    "        print(f\"Epoch {epoch}/{epochs}, Loss: {loss.item()}\")\n",
    "\n",
    "# Plot the results for one example from the batch\n",
    "example_idx = 0\n",
    "\n"
   ]
  },
  {
   "cell_type": "code",
   "execution_count": null,
   "id": "d244120e",
   "metadata": {},
   "outputs": [],
   "source": []
  },
  {
   "cell_type": "code",
   "execution_count": null,
   "id": "6b6a9f9f",
   "metadata": {},
   "outputs": [],
   "source": []
  },
  {
   "cell_type": "code",
   "execution_count": null,
   "id": "151b5a38",
   "metadata": {},
   "outputs": [],
   "source": []
  },
  {
   "cell_type": "code",
   "execution_count": 400,
   "id": "fd7fa001",
   "metadata": {},
   "outputs": [],
   "source": [
    "output, emb = model(masked_signal_data, mask)\n",
    "beds =emb"
   ]
  },
  {
   "cell_type": "code",
   "execution_count": 401,
   "id": "942beab3",
   "metadata": {},
   "outputs": [
    {
     "data": {
      "text/plain": [
       "(100, 6400)"
      ]
     },
     "execution_count": 401,
     "metadata": {},
     "output_type": "execute_result"
    }
   ],
   "source": [
    "embeddings_np.reshape(100,-1).shape"
   ]
  },
  {
   "cell_type": "code",
   "execution_count": 402,
   "id": "9c7d2b38",
   "metadata": {},
   "outputs": [],
   "source": [
    "embeddings_np = emb.detach().numpy()\n",
    "embeddings_np=embeddings_np.reshape(400,-1)\n",
    "embeddings_np = emb[:,:100,:].detach().numpy().reshape(400,-1)"
   ]
  },
  {
   "cell_type": "code",
   "execution_count": 403,
   "id": "e7ee2014",
   "metadata": {},
   "outputs": [],
   "source": [
    "import torch\n",
    "import numpy as np\n",
    "from sklearn.decomposition import PCA\n",
    "import matplotlib.pyplot as plt\n",
    "\n",
    "# For example, let's create synthetic embeddings of shape (batch_size, embedding_dim)\n",
    "batch_size = 100\n",
    "embedding_dim = 64\n",
    "\n",
    "# Convert embeddings to numpy for PCA\n",
    "#e#mbeddings_np = beds.detach().numpy()\n",
    "\n",
    "# Apply PCA to reduce to 2D\n",
    "pca = PCA(n_components=2)\n",
    "embeddings_2d = pca.fit_transform(embeddings_np)\n"
   ]
  },
  {
   "cell_type": "code",
   "execution_count": 404,
   "id": "deb553bf",
   "metadata": {},
   "outputs": [],
   "source": [
    "DF_ALL = pd.DataFrame(embeddings_2d)\n",
    "DF_ALL['label'] =labels"
   ]
  },
  {
   "cell_type": "code",
   "execution_count": 405,
   "id": "7de3d29d",
   "metadata": {},
   "outputs": [
    {
     "data": {
      "text/html": [
       "<div>\n",
       "<style scoped>\n",
       "    .dataframe tbody tr th:only-of-type {\n",
       "        vertical-align: middle;\n",
       "    }\n",
       "\n",
       "    .dataframe tbody tr th {\n",
       "        vertical-align: top;\n",
       "    }\n",
       "\n",
       "    .dataframe thead th {\n",
       "        text-align: right;\n",
       "    }\n",
       "</style>\n",
       "<table border=\"1\" class=\"dataframe\">\n",
       "  <thead>\n",
       "    <tr style=\"text-align: right;\">\n",
       "      <th></th>\n",
       "      <th>0</th>\n",
       "      <th>1</th>\n",
       "      <th>label</th>\n",
       "    </tr>\n",
       "  </thead>\n",
       "  <tbody>\n",
       "    <tr>\n",
       "      <th>0</th>\n",
       "      <td>-0.158991</td>\n",
       "      <td>-1.310749</td>\n",
       "      <td>1</td>\n",
       "    </tr>\n",
       "    <tr>\n",
       "      <th>1</th>\n",
       "      <td>1.367209</td>\n",
       "      <td>1.254219</td>\n",
       "      <td>1</td>\n",
       "    </tr>\n",
       "    <tr>\n",
       "      <th>2</th>\n",
       "      <td>1.369065</td>\n",
       "      <td>-2.034657</td>\n",
       "      <td>1</td>\n",
       "    </tr>\n",
       "    <tr>\n",
       "      <th>3</th>\n",
       "      <td>0.387182</td>\n",
       "      <td>-2.481663</td>\n",
       "      <td>1</td>\n",
       "    </tr>\n",
       "    <tr>\n",
       "      <th>4</th>\n",
       "      <td>2.315795</td>\n",
       "      <td>2.522600</td>\n",
       "      <td>1</td>\n",
       "    </tr>\n",
       "    <tr>\n",
       "      <th>...</th>\n",
       "      <td>...</td>\n",
       "      <td>...</td>\n",
       "      <td>...</td>\n",
       "    </tr>\n",
       "    <tr>\n",
       "      <th>395</th>\n",
       "      <td>-1.243194</td>\n",
       "      <td>-3.996364</td>\n",
       "      <td>4</td>\n",
       "    </tr>\n",
       "    <tr>\n",
       "      <th>396</th>\n",
       "      <td>2.710097</td>\n",
       "      <td>0.722133</td>\n",
       "      <td>4</td>\n",
       "    </tr>\n",
       "    <tr>\n",
       "      <th>397</th>\n",
       "      <td>2.646372</td>\n",
       "      <td>2.132224</td>\n",
       "      <td>4</td>\n",
       "    </tr>\n",
       "    <tr>\n",
       "      <th>398</th>\n",
       "      <td>0.652645</td>\n",
       "      <td>-2.089290</td>\n",
       "      <td>4</td>\n",
       "    </tr>\n",
       "    <tr>\n",
       "      <th>399</th>\n",
       "      <td>-3.746486</td>\n",
       "      <td>0.545783</td>\n",
       "      <td>4</td>\n",
       "    </tr>\n",
       "  </tbody>\n",
       "</table>\n",
       "<p>400 rows × 3 columns</p>\n",
       "</div>"
      ],
      "text/plain": [
       "            0         1  label\n",
       "0   -0.158991 -1.310749      1\n",
       "1    1.367209  1.254219      1\n",
       "2    1.369065 -2.034657      1\n",
       "3    0.387182 -2.481663      1\n",
       "4    2.315795  2.522600      1\n",
       "..        ...       ...    ...\n",
       "395 -1.243194 -3.996364      4\n",
       "396  2.710097  0.722133      4\n",
       "397  2.646372  2.132224      4\n",
       "398  0.652645 -2.089290      4\n",
       "399 -3.746486  0.545783      4\n",
       "\n",
       "[400 rows x 3 columns]"
      ]
     },
     "execution_count": 405,
     "metadata": {},
     "output_type": "execute_result"
    }
   ],
   "source": [
    "DF_ALL"
   ]
  },
  {
   "cell_type": "code",
   "execution_count": 406,
   "id": "2fbb449f",
   "metadata": {},
   "outputs": [
    {
     "data": {
      "image/png": "[encoded data removed]",
      "text/plain": [
       "<Figure size 800x600 with 1 Axes>"
      ]
     },
     "metadata": {},
     "output_type": "display_data"
    }
   ],
   "source": [
    "\n",
    "import seaborn as sns\n",
    "# Plot the 2D PCA result\n",
    "plt.figure(figsize=(8, 6))\n",
    "sns.scatterplot(data = DF_ALL, x=0,y=1,hue = 'label')\n",
    "\n",
    "\n",
    "plt.title(\"2D PCA of Embedding Space\")\n",
    "plt.xlabel(\"Principal Component 1\")\n",
    "plt.ylabel(\"Principal Component 2\")\n",
    "plt.grid(True)\n",
    "plt.show()\n"
   ]
  },
  {
   "cell_type": "code",
   "execution_count": null,
   "id": "0a6fc9b3",
   "metadata": {},
   "outputs": [],
   "source": []
  },
  {
   "cell_type": "code",
   "execution_count": 409,
   "id": "91841e26",
   "metadata": {},
   "outputs": [],
   "source": [
    "example_idx = 1\n",
    "\n"
   ]
  },
  {
   "cell_type": "code",
   "execution_count": 410,
   "id": "cdedfeb3",
   "metadata": {},
   "outputs": [
    {
     "data": {
      "image/png": "[encoded data removed]",
      "text/plain": [
       "<Figure size 1000x600 with 1 Axes>"
      ]
     },
     "metadata": {},
     "output_type": "display_data"
    }
   ],
   "source": [
    "original_signal = signal_data[example_idx].squeeze().numpy()\n",
    "masked_signal = masked_signal_data[example_idx].squeeze().numpy()\n",
    "reconstructed_signal = output[example_idx].detach().squeeze().numpy()\n",
    "\n",
    "# Plot original, masked, and reconstructed signals\n",
    "plt.figure(figsize=(10, 6))\n",
    "plt.plot(original_signal, label=\"Original Signal\", linestyle='-', color='b')\n",
    "plt.plot(masked_signal, label=\"Masked Signal\", linestyle='--', color='orange')\n",
    "plt.plot(reconstructed_signal, label=\"Reconstructed Signal\", linestyle='-', color='g')\n",
    "plt.legend()\n",
    "plt.title(f\"Signal Reconstruction (Example {example_idx})\")\n",
    "plt.xlabel(\"Time Step\")\n",
    "plt.ylabel(\"Signal Value\")\n",
    "plt.show()\n",
    "\n"
   ]
  },
  {
   "cell_type": "code",
   "execution_count": null,
   "id": "28b96d91",
   "metadata": {},
   "outputs": [],
   "source": []
  },
  {
   "cell_type": "markdown",
   "id": "a12cfd2f",
   "metadata": {},
   "source": [
    "# Real Data"
   ]
  },
  {
   "cell_type": "code",
   "execution_count": 24,
   "id": "b83fb505",
   "metadata": {},
   "outputs": [],
   "source": [
    "import pickle\n",
    "filename = 'processed_data/data.p'\n",
    "with open(filename, 'rb') as file:\n",
    "    (X, labels, pats, var_list) = pickle.load( file)\n",
    "X_new=np.round(X,0)\n",
    "X_new=X_new[:,:260].astype(int)\n",
    "#X_new = (X_new-120)/20\n",
    "type_ = 'real'\n",
    "cutoff = int(len(pats)*.5)-23\n",
    "\n",
    "X_train=X_new[:cutoff,:]\n",
    "y_train=np.asarray(pats[:cutoff])\n",
    "X_test= X_new[cutoff:,:]\n",
    "y_test=np.asarray(pats[cutoff:])\n",
    "\n",
    "labels_train = labels[:cutoff]\n",
    "labels_test = labels[cutoff:]"
   ]
  },
  {
   "cell_type": "code",
   "execution_count": 27,
   "id": "912cad08",
   "metadata": {},
   "outputs": [],
   "source": [
    "class CustomDataset(Dataset):\n",
    "    def __init__(self, data, labels):\n",
    "        \"\"\"\n",
    "        Args:\n",
    "            data (Tensor): The input data.\n",
    "            labels (Tensor): The corresponding labels or categories for the contrastive loss.\n",
    "        \"\"\"\n",
    "        self.data = data\n",
    "        self.labels = labels\n",
    "\n",
    "    def __len__(self):\n",
    "        return len(self.data)\n",
    "\n",
    "    def __getitem__(self, idx):\n",
    "        sample = self.data[idx]\n",
    "        label = self.labels[idx]\n",
    "        return sample, label\n",
    "\n",
    "\n",
    "\n",
    "## Autoencoder\n",
    "# Create a dataset and dataloader\n",
    "class TimeSeriesDataset(Dataset):\n",
    "    def __init__(self, data):\n",
    "        self.data = data\n",
    "    \n",
    "    def __len__(self):\n",
    "        return len(self.data)\n",
    "    \n",
    "    def __getitem__(self, idx):\n",
    "        return self.data[idx]\n",
    "  \n",
    "\n",
    "\n",
    "class ProgressiveSameLabelBatchSampler(Sampler):\n",
    "    def __init__(self, labels, batch_size):\n",
    "        self.labels = labels\n",
    "        self.batch_size = batch_size\n",
    "        \n",
    "        # Group indices by labels\n",
    "        self.label_to_indices = defaultdict(list)\n",
    "        for idx, label in enumerate(self.labels):\n",
    "            self.label_to_indices[label].append(idx)\n",
    "        \n",
    "        # Create a list of all labels\n",
    "        self.labels_set = list(self.label_to_indices.keys())\n",
    "\n",
    "    def __iter__(self):\n",
    "        # Shuffle the labels\n",
    "        labels_set = self.labels_set[:]\n",
    "        random.shuffle(labels_set)\n",
    "\n",
    "        batch = []\n",
    "        while labels_set:\n",
    "            # Randomly select and remove the first label\n",
    "            current_label = labels_set.pop(0)\n",
    "            indices = self.label_to_indices[current_label][:]\n",
    "            random.shuffle(indices)\n",
    "            \n",
    "            while indices:\n",
    "                # Add samples from the current label to the batch\n",
    "                batch.append(indices.pop(0))\n",
    "\n",
    "                # When the batch is full, yield it\n",
    "                if len(batch) == self.batch_size:\n",
    "                    yield batch\n",
    "                    batch = []\n",
    "                    \n",
    "            # If the current label has no more samples and the batch is not full, pick the next label\n",
    "            if not labels_set and len(batch) > 0:\n",
    "                # If the batch is not empty and no more labels are left, yield the remaining batch\n",
    "                yield batch\n",
    "                batch = []\n",
    "\n",
    "    def __len__(self):\n",
    "        return len(self.labels) // self.batch_size\n",
    "\n",
    "train_dataset = TimeSeriesDataset(torch.Tensor(X_train))\n",
    "val_dataset = TimeSeriesDataset(torch.Tensor(X_test))\n",
    "# Create dataset\n",
    "dataset_train = CustomDataset(train_dataset, y_train)\n",
    "dataset_val = CustomDataset(val_dataset, y_test, )\n",
    "\n",
    "\n",
    "\n"
   ]
  },
  {
   "cell_type": "code",
   "execution_count": 32,
   "id": "f3cac736",
   "metadata": {},
   "outputs": [
    {
     "data": {
      "text/plain": [
       "(1649, 260)"
      ]
     },
     "execution_count": 32,
     "metadata": {},
     "output_type": "execute_result"
    }
   ],
   "source": [
    "X_train.shape"
   ]
  },
  {
   "cell_type": "code",
   "execution_count": 39,
   "id": "b04ff655",
   "metadata": {},
   "outputs": [
    {
     "data": {
      "text/plain": [
       "array([1, 1, 1, 1, 1, 1, 1, 1, 1, 1, 1, 1, 1, 1, 1, 1, 1, 1, 1, 1, 1, 1,\n",
       "       1, 1, 1, 1, 1, 1, 1, 1, 1, 1, 1, 1, 1, 1, 1, 1, 1, 1, 1, 1, 1, 1,\n",
       "       1, 1, 1, 1, 1, 1, 1, 1, 1, 1, 1, 1, 1, 1, 1, 1, 1, 1, 1, 1, 1, 1,\n",
       "       1, 1, 1, 1, 1, 1, 1, 1, 2, 2, 2, 2, 2, 2, 2, 2, 2, 2, 2, 2, 2, 2,\n",
       "       2, 2, 2, 2, 2, 2, 2, 2, 2, 2, 2, 2])"
      ]
     },
     "execution_count": 39,
     "metadata": {},
     "output_type": "execute_result"
    }
   ],
   "source": [
    "y_train[:100]"
   ]
  },
  {
   "cell_type": "code",
   "execution_count": 140,
   "id": "26aa5fd3",
   "metadata": {},
   "outputs": [
    {
     "data": {
      "text/plain": [
       "torch.Size([32, 100, 64])"
      ]
     },
     "execution_count": 140,
     "metadata": {},
     "output_type": "execute_result"
    }
   ],
   "source": [
    "emb.shape"
   ]
  },
  {
   "cell_type": "code",
   "execution_count": null,
   "id": "4e75be2f",
   "metadata": {},
   "outputs": [],
   "source": []
  },
  {
   "cell_type": "code",
   "execution_count": null,
   "id": "ab9e8349",
   "metadata": {},
   "outputs": [],
   "source": []
  },
  {
   "cell_type": "code",
   "execution_count": 228,
   "id": "52629a84",
   "metadata": {},
   "outputs": [
    {
     "data": {
      "application/vnd.jupyter.widget-view+json": {
       "model_id": "bac5a47678504248a24558c38c1679fd",
       "version_major": 2,
       "version_minor": 0
      },
      "text/plain": [
       "train-batch.pt:   0%|          | 0.00/90.0k [00:00<?, ?B/s]"
      ]
     },
     "metadata": {},
     "output_type": "display_data"
    },
    {
     "name": "stderr",
     "output_type": "stream",
     "text": [
      "/var/folders/ys/xmkbmq116_j_q98mgk820pn40000gn/T/ipykernel_43288/2793130256.py:8: FutureWarning: You are using `torch.load` with `weights_only=False` (the current default value), which uses the default pickle module implicitly. It is possible to construct malicious pickle data which will execute arbitrary code during unpickling (See https://github.com/pytorch/pytorch/blob/main/SECURITY.md#untrusted-models for more details). In a future release, the default value for `weights_only` will be flipped to `True`. This limits the functions that could be executed during unpickling. Arbitrary objects will no longer be allowed to be loaded via this mode unless they are explicitly allowlisted by the user via `torch.serialization.add_safe_globals`. We recommend you start setting `weights_only=True` for any use case where you don't have full control of the loaded file. Please open an issue on GitHub for any issues related to this experimental feature.\n",
      "  batch = torch.load(file)\n"
     ]
    },
    {
     "data": {
      "application/vnd.jupyter.widget-view+json": {
       "model_id": "b53a7df6219b44c5a641ec1f87639210",
       "version_major": 2,
       "version_minor": 0
      },
      "text/plain": [
       "config.json:   0%|          | 0.00/1.21k [00:00<?, ?B/s]"
      ]
     },
     "metadata": {},
     "output_type": "display_data"
    },
    {
     "data": {
      "application/vnd.jupyter.widget-view+json": {
       "model_id": "67a9a8b6c77e41379cc42ec2b2160a22",
       "version_major": 2,
       "version_minor": 0
      },
      "text/plain": [
       "pytorch_model.bin:   0%|          | 0.00/151k [00:00<?, ?B/s]"
      ]
     },
     "metadata": {},
     "output_type": "display_data"
    }
   ],
   "source": [
    "from huggingface_hub import hf_hub_download\n",
    "import torch\n",
    "from transformers import TimeSeriesTransformerForPrediction\n",
    "\n",
    "file = hf_hub_download(\n",
    "    repo_id=\"hf-internal-testing/tourism-monthly-batch\", filename=\"train-batch.pt\", repo_type=\"dataset\"\n",
    ")\n",
    "batch = torch.load(file)\n",
    "\n",
    "model = TimeSeriesTransformerForPrediction.from_pretrained(\n",
    "    \"huggingface/time-series-transformer-tourism-monthly\"\n",
    ")\n",
    "\n",
    "# during training, one provides both past and future values\n",
    "# as well as possible additional features\n",
    "outputs = model(\n",
    "    past_values=batch[\"past_values\"],\n",
    "    past_time_features=batch[\"past_time_features\"],\n",
    "    past_observed_mask=batch[\"past_observed_mask\"],\n",
    "    static_categorical_features=batch[\"static_categorical_features\"],\n",
    "    static_real_features=batch[\"static_real_features\"],\n",
    "    future_values=batch[\"future_values\"],\n",
    "    future_time_features=batch[\"future_time_features\"],\n",
    ")\n",
    "\n",
    "loss = outputs.loss\n",
    "loss.backward()\n",
    "\n",
    "# during inference, one only provides past values\n",
    "# as well as possible additional features\n",
    "# the model autoregressively generates future values\n",
    "outputs = model.generate(\n",
    "    past_values=batch[\"past_values\"],\n",
    "    past_time_features=batch[\"past_time_features\"],\n",
    "    past_observed_mask=batch[\"past_observed_mask\"],\n",
    "    static_categorical_features=batch[\"static_categorical_features\"],\n",
    "    static_real_features=batch[\"static_real_features\"],\n",
    "    future_time_features=batch[\"future_time_features\"],\n",
    ")\n",
    "\n",
    "mean_prediction = outputs.sequences.mean(dim=1)"
   ]
  },
  {
   "cell_type": "code",
   "execution_count": null,
   "id": "7a3ef148",
   "metadata": {},
   "outputs": [],
   "source": []
  }
 ],
 "metadata": {
  "kernelspec": {
   "display_name": "Python [conda env:ODE_env]",
   "language": "python",
   "name": "conda-env-ODE_env-py"
  },
  "language_info": {
   "codemirror_mode": {
    "name": "ipython",
    "version": 3
   },
   "file_extension": ".py",
   "mimetype": "text/x-python",
   "name": "python",
   "nbconvert_exporter": "python",
   "pygments_lexer": "ipython3",
   "version": "3.9.15"
  }
 },
 "nbformat": 4,
 "nbformat_minor": 5
}
